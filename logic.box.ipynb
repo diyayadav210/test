{
 "cells": [
  {
   "cell_type": "code",
   "execution_count": 1,
   "id": "47c16189-8dc6-447b-b48b-a810cc6478d1",
   "metadata": {},
   "outputs": [
    {
     "name": "stdout",
     "output_type": "stream",
     "text": [
      "selct an option :\n",
      "1. generate a pattern\n",
      "2. analyze a range of number\n",
      "3. exit\n"
     ]
    },
    {
     "name": "stdin",
     "output_type": "stream",
     "text": [
      "Enter your choice : 1\n",
      "Enter the number of rows for the pattern : 5\n"
     ]
    },
    {
     "name": "stdout",
     "output_type": "stream",
     "text": [
      "* \n",
      "* * \n",
      "* * * \n",
      "* * * * \n",
      "* * * * * \n",
      "selct an option :\n",
      "1. generate a pattern\n",
      "2. analyze a range of number\n",
      "3. exit\n"
     ]
    },
    {
     "name": "stdin",
     "output_type": "stream",
     "text": [
      "Enter your choice : 2\n",
      "Enter the start of the range : 2\n",
      "Enter the end of the range : 8\n"
     ]
    },
    {
     "name": "stdout",
     "output_type": "stream",
     "text": [
      "Number 2 is even\n",
      "Number 3 is odd\n",
      "Number 4 is even\n",
      "Number 5 is odd\n",
      "Number 6 is even\n",
      "Number 7 is odd\n",
      "Number 8 is even\n",
      "Sum of all numbers from 2 to 8 is :35\n",
      "selct an option :\n",
      "1. generate a pattern\n",
      "2. analyze a range of number\n",
      "3. exit\n"
     ]
    },
    {
     "name": "stdin",
     "output_type": "stream",
     "text": [
      "Enter your choice : 3\n"
     ]
    },
    {
     "name": "stdout",
     "output_type": "stream",
     "text": [
      "Exiting the program. Goodbye!\n"
     ]
    }
   ],
   "source": [
    "while(True):\n",
    "    print(\"selct an option :\")\n",
    "    print(\"1. generate a pattern\")\n",
    "    print(\"2. analyze a range of number\")\n",
    "    print(\"3. exit\")\n",
    "    user_input = int(input(\"Enter your choice :\"))\n",
    "\n",
    "    if user_input == 2:\n",
    "        starting_range = int(input(\"Enter the start of the range :\"))\n",
    "        ending_range = int(input(\"Enter the end of the range :\"))\n",
    "        sum = 0\n",
    "        for num in range(starting_range , ending_range + 1):\n",
    "            sum = sum + num\n",
    "            if num % 2 :\n",
    "                print(f\"Number {num} is odd\")\n",
    "            else:\n",
    "                print(f\"Number {num} is even\")\n",
    "        \n",
    "        else:\n",
    "            print(f\"Sum of all numbers from {starting_range} to {ending_range} is :{sum}\")\n",
    "    \n",
    "    if user_input == 1:\n",
    "        n = int(input(\"Enter the number of rows for the pattern :\"))\n",
    "        for row in range(0, n):\n",
    "            for cal in range(0, row+1):\n",
    "                print(\"* \", end=\"\")\n",
    "            print()\n",
    "     \n",
    "    if user_input == 3:\n",
    "        print(\"Exiting the program. Goodbye!\")\n",
    "        break\n",
    "        "
   ]
  },
  {
   "cell_type": "code",
   "execution_count": null,
   "id": "138a7f59-9516-4651-982e-e5ff1a02bb62",
   "metadata": {},
   "outputs": [],
   "source": []
  }
 ],
 "metadata": {
  "kernelspec": {
   "display_name": "Python 3 (ipykernel)",
   "language": "python",
   "name": "python3"
  },
  "language_info": {
   "codemirror_mode": {
    "name": "ipython",
    "version": 3
   },
   "file_extension": ".py",
   "mimetype": "text/x-python",
   "name": "python",
   "nbconvert_exporter": "python",
   "pygments_lexer": "ipython3",
   "version": "3.13.5"
  }
 },
 "nbformat": 4,
 "nbformat_minor": 5
}
