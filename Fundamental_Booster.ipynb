{
 "cells": [
  {
   "cell_type": "code",
   "execution_count": 1,
   "id": "c60e7ee9-acd5-4162-9655-cc20a6d5f460",
   "metadata": {},
   "outputs": [
    {
     "name": "stdin",
     "output_type": "stream",
     "text": [
      "Enter your name : diya\n",
      "Enter your age : 20\n",
      "Enter your height : 5\n",
      "Enter your favourite number : 3\n"
     ]
    },
    {
     "name": "stdout",
     "output_type": "stream",
     "text": [
      "Thank you! Here is the information we collected :\n",
      "Name :  diya ('Type :', <class 'str'>) ('Memory Address :', 1684288806400)\n",
      "Age :  20 ('Type :', <class 'int'>) ('Memory Address :', 140708343428616)\n",
      "Height :  5.0 ('Type :', <class 'float'>) ('Memory Address :', 1684265411024)\n",
      "Favourite number : 3 ('Type :', <class 'int'>) ('Memory Address :', 140708343428072)\n",
      "Your birth year is approximately :  2005\n",
      "Converted data type of age:- 20.0 <class 'float'>\n",
      "converted data type of height:- 5 <class 'int'>\n",
      "Thank you for using the personal Data Collector. Goodbye!\n"
     ]
    }
   ],
   "source": [
    "name = input(\"Enter your name :\")\n",
    "age = int(input(\"Enter your age :\"))\n",
    "height = float(input(\"Enter your height :\"))\n",
    "num = int(input(\"Enter your favourite number :\"))\n",
    "\n",
    "print(\"Thank you! Here is the information we collected :\")\n",
    "\n",
    "print(\"Name : \" ,name , (\"Type :\",type(name)), (\"Memory Address :\",id(name)))\n",
    "print(\"Age : \" ,age ,(\"Type :\",type(age)),(\"Memory Address :\",id(age)))\n",
    "print(\"Height : \" ,height, (\"Type :\",type(height)),(\"Memory Address :\",id(height)))\n",
    "print(\"Favourite number :\",num, (\"Type :\",type(num)),(\"Memory Address :\",id(num)))\n",
    "\n",
    "current_year = 2025\n",
    "birth_year = current_year - age\n",
    "print(\"Your birth year is approximately : \",birth_year)\n",
    "\n",
    "age = float(age)\n",
    "height = int(height)\n",
    "print(\"Converted data type of age:-\",age,type(age))\n",
    "print(\"converted data type of height:-\",height,type(height))\n",
    "\n",
    "print(\"Thank you for using the personal Data Collector. Goodbye!\")\n"
   ]
  },
  {
   "cell_type": "code",
   "execution_count": null,
   "id": "7cf5b426-bb80-4351-a3df-d230ab12d6aa",
   "metadata": {},
   "outputs": [],
   "source": []
  }
 ],
 "metadata": {
  "kernelspec": {
   "display_name": "Python 3 (ipykernel)",
   "language": "python",
   "name": "python3"
  },
  "language_info": {
   "codemirror_mode": {
    "name": "ipython",
    "version": 3
   },
   "file_extension": ".py",
   "mimetype": "text/x-python",
   "name": "python",
   "nbconvert_exporter": "python",
   "pygments_lexer": "ipython3",
   "version": "3.13.5"
  }
 },
 "nbformat": 4,
 "nbformat_minor": 5
}
