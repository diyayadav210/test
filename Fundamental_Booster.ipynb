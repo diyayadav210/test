{
 "cells": [
  {
   "cell_type": "code",
   "execution_count": 1,
   "id": "c60e7ee9-acd5-4162-9655-cc20a6d5f460",
   "metadata": {},
   "outputs": [
    {
     "ename": "SyntaxError",
     "evalue": "invalid syntax (2601767020.py, line 8)",
     "output_type": "error",
     "traceback": [
      "  \u001b[36mCell\u001b[39m\u001b[36m \u001b[39m\u001b[32mIn[1]\u001b[39m\u001b[32m, line 8\u001b[39m\n\u001b[31m    \u001b[39m\u001b[31mprint(\"Name : \" ,name , (Type :,type(name)), (Memory Address :,id(name)))\u001b[39m\n                                  ^\n\u001b[31mSyntaxError\u001b[39m\u001b[31m:\u001b[39m invalid syntax\n"
     ]
    }
   ],
   "source": [
    "name = input(\"Enter your name :\")\n",
    "age = int(input(\"Enter your age :\"))\n",
    "height = float(input(\"Enter your height :\"))\n",
    "num = int(input(\"Enter your favourite number :\"))\n",
    "\n",
    "print(\"Thank you! Here is the information we collected :\")\n",
    "\n",
    "print(\"Name : \" ,name , (\"Type :\",type(name)), (\"Memory Address :\",id(name)))\n",
    "print(\"Age : \" ,age ,(\"Type :\",type(age)),(\"Memory Address :\",id(age)))\n",
    "print(\"Height : \" ,height, (\"Type :\",type(height)),(\"Memory Address :\",id(height)))\n",
    "print(\"Favourite number :\",num, (\"Type :\",type(num)),(\"Memory Address :\",id(num)))\n",
    "\n",
    "current_year = 2025\n",
    "birth_year = current_year - age\n",
    "print(\"Your birth year is approximately : \",birth_year)\n",
    "\n",
    "age = float(age)\n",
    "height = int(height)\n",
    "print(\"Converted data type of age:-\",age,type(age))\n",
    "print(\"converted data type of height:-\",height,type(height))\n",
    "\n",
    "print(\"Thank you for using the personal Data Collector. Goodbye!\")\n"
   ]
  }
 ],
 "metadata": {
  "kernelspec": {
   "display_name": "Python 3 (ipykernel)",
   "language": "python",
   "name": "python3"
  },
  "language_info": {
   "codemirror_mode": {
    "name": "ipython",
    "version": 3
   },
   "file_extension": ".py",
   "mimetype": "text/x-python",
   "name": "python",
   "nbconvert_exporter": "python",
   "pygments_lexer": "ipython3",
   "version": "3.13.5"
  }
 },
 "nbformat": 4,
 "nbformat_minor": 5
}
